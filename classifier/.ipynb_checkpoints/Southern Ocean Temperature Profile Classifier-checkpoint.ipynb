{
 "cells": [
  {
   "cell_type": "code",
   "execution_count": 1,
   "metadata": {
    "collapsed": true
   },
   "outputs": [],
   "source": [
    "from sklearn import mixture\n",
    "from sklearn import preprocessing\n",
    "import matplotlib.pyplot as plt\n",
    "import numpy as np\n",
    "import pandas as pd\n",
    "import pickle"
   ]
  },
  {
   "cell_type": "code",
   "execution_count": 2,
   "metadata": {
    "collapsed": true
   },
   "outputs": [],
   "source": [
    "# load objects to standardize profiles, run PCA analysis, and perform GMM labeling\n",
    "scale = pickle.load( open( \"Scale_object.pkl\", \"rb\" ) )\n",
    "pca = pickle.load( open( \"PCA_object.pkl\", \"rb\" ) )\n",
    "gmm = pickle.load( open( \"GMM_object.pkl\", \"rb\" ) )\n",
    "\n",
    "# get pressure levels on which temperature is defined\n",
    "pressures = pd.read_csv(\"Depth_retained.csv\")\n",
    "\n",
    "# get sample profiles from CSV\n",
    "dfSample = pd.read_csv(\"sample_profiles.csv\")"
   ]
  },
  {
   "cell_type": "code",
   "execution_count": 3,
   "metadata": {},
   "outputs": [],
   "source": [
    "# map from unsorted to sorted properties\n",
    "# based on class mean temperatures\n",
    "mapping = {\n",
    "    1 : 1,\n",
    "    3 : 2,\n",
    "    6 : 3,\n",
    "    7 : 4,\n",
    "    4 : 5,\n",
    "    2 : 6,\n",
    "    0 : 7,\n",
    "    5 : 8,\n",
    "}\n",
    "\n",
    "# transform data using PCA and GMM\n",
    "X = dfSample.values[:,1:].T\n",
    "Xscaled = scale.transform(X)\n",
    "Xpca = pca.transform(Xscaled)\n",
    "labels_unsorted = gmm.predict(Xpca)\n",
    "posteriors = gmm.predict_proba(Xpca)\n",
    "ppmax = np.max(posteriors,axis=1)\n",
    "\n",
    "# sort labels based on class mean temperature properties\n",
    "labels_sorted = np.empty(labels_unsorted.size, dtype=int)\n",
    "for key, val in mapping.items():\n",
    "    labels_sorted[labels_unsorted == key] = val"
   ]
  },
  {
   "cell_type": "code",
   "execution_count": 28,
   "metadata": {},
   "outputs": [
    {
     "data": {
      "text/html": [
       "<div>\n",
       "<style scoped>\n",
       "    .dataframe tbody tr th:only-of-type {\n",
       "        vertical-align: middle;\n",
       "    }\n",
       "\n",
       "    .dataframe tbody tr th {\n",
       "        vertical-align: top;\n",
       "    }\n",
       "\n",
       "    .dataframe thead th {\n",
       "        text-align: right;\n",
       "    }\n",
       "</style>\n",
       "<table border=\"1\" class=\"dataframe\">\n",
       "  <thead>\n",
       "    <tr style=\"text-align: right;\">\n",
       "      <th></th>\n",
       "      <th>Class</th>\n",
       "      <th>Max. post. prob.</th>\n",
       "    </tr>\n",
       "  </thead>\n",
       "  <tbody>\n",
       "    <tr>\n",
       "      <th>0</th>\n",
       "      <td>3</td>\n",
       "      <td>0.997914</td>\n",
       "    </tr>\n",
       "    <tr>\n",
       "      <th>1</th>\n",
       "      <td>7</td>\n",
       "      <td>0.994708</td>\n",
       "    </tr>\n",
       "    <tr>\n",
       "      <th>2</th>\n",
       "      <td>8</td>\n",
       "      <td>0.702473</td>\n",
       "    </tr>\n",
       "    <tr>\n",
       "      <th>3</th>\n",
       "      <td>1</td>\n",
       "      <td>0.775394</td>\n",
       "    </tr>\n",
       "    <tr>\n",
       "      <th>4</th>\n",
       "      <td>5</td>\n",
       "      <td>0.930772</td>\n",
       "    </tr>\n",
       "    <tr>\n",
       "      <th>5</th>\n",
       "      <td>4</td>\n",
       "      <td>0.556371</td>\n",
       "    </tr>\n",
       "    <tr>\n",
       "      <th>6</th>\n",
       "      <td>6</td>\n",
       "      <td>0.999997</td>\n",
       "    </tr>\n",
       "  </tbody>\n",
       "</table>\n",
       "</div>"
      ],
      "text/plain": [
       "   Class  Max. post. prob.\n",
       "0      3          0.997914\n",
       "1      7          0.994708\n",
       "2      8          0.702473\n",
       "3      1          0.775394\n",
       "4      5          0.930772\n",
       "5      4          0.556371\n",
       "6      6          0.999997"
      ]
     },
     "execution_count": 28,
     "metadata": {},
     "output_type": "execute_result"
    }
   ],
   "source": [
    "# display results\n",
    "ls1 = pd.Series(labels_sorted)\n",
    "ps1 = pd.Series(ppmax)\n",
    "dfRes = pd.concat([ls1, ps1], axis=1)\n",
    "dfRes.rename(columns={0:\"Class\", 1:\"Max. post. prob.\"})"
   ]
  },
  {
   "cell_type": "code",
   "execution_count": 118,
   "metadata": {},
   "outputs": [
    {
     "data": {
      "image/png": "[encoded data removed]",
      "text/plain": [
       "<matplotlib.figure.Figure at 0x115d47748>"
      ]
     },
     "metadata": {},
     "output_type": "display_data"
    }
   ],
   "source": [
    "# plot example temperature profile\n",
    "iplot = 6\n",
    "iclass = labels_sorted[iplot]\n",
    "ipost = ppmax[iplot]\n",
    "plt.plot(X[iplot,:],pressures.values)\n",
    "ax = plt.gca()\n",
    "ax.invert_yaxis() \n",
    "plt.xlabel('Temperature (°C)')\n",
    "plt.ylabel('Pressure (dbar)')\n",
    "plt.xlim([-2, 20])\n",
    "ax.grid(True)\n",
    "\n",
    "# text box\n",
    "textstr = '\\n'.join((\n",
    "    r'Class = %i' % (iclass, ),\n",
    "    r'Posterior prob. = %.2f' % (ipost, )))\n",
    "props = dict(boxstyle='round', facecolor='wheat', alpha=0.2)\n",
    "# place a text box in upper left in axes coords\n",
    "ax.text(0.05, 0.95, textstr, transform=ax.transAxes, fontsize=14,\n",
    "        verticalalignment='top', bbox=props)\n",
    "\n",
    "plt.show()"
   ]
  }
 ],
 "metadata": {
  "kernelspec": {
   "display_name": "Python 3",
   "language": "python",
   "name": "python3"
  },
  "language_info": {
   "codemirror_mode": {
    "name": "ipython",
    "version": 3
   },
   "file_extension": ".py",
   "mimetype": "text/x-python",
   "name": "python",
   "nbconvert_exporter": "python",
   "pygments_lexer": "ipython3",
   "version": "3.5.2"
  }
 },
 "nbformat": 4,
 "nbformat_minor": 2
}
